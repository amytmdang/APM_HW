{
 "cells": [
  {
   "cell_type": "markdown",
   "metadata": {},
   "source": [
    "\n",
    "# <p style=\"text-align: center;\">MIS382: Advanced Predictive Modeling</p>\n",
    "# <p style=\"text-align: center;\">Assignment 3</p>\n",
    "## <p style=\"text-align: center;\">Total points: 75</p>\n",
    "## <p style=\"text-align: center;\">Due: Tuesday, October 23rd, submitted via Canvas by 11:59 pm</p>\n",
    "\n",
    "Your homework should be written in a **Jupyter notebook**. You may work in groups of two if you wish. Only one student per team needs to submit the assignment on Canvas.  **Please include the name and UTEID for both students on all submitted files (including this notebook).** In addition, please make sure that **your filename includes your EID** (ex. ss324.jpynb or ss324_mj345.jpypb).\n",
    "\n",
    "Also, please make sure your code runs and the graphics (and anything else) are displayed in your notebook before submitting. (%matplotlib inline)"
   ]
  },
  {
   "cell_type": "markdown",
   "metadata": {},
   "source": [
    "# Question 1a - Stochastic Gradient Descent (25pts)"
   ]
  },
  {
   "cell_type": "markdown",
   "metadata": {},
   "source": [
    "1. (5pts) Using stochastic gradient descent, derive the coefficent updates for all 4 coefficients of the model: $$ y = w_0 + w_1x_1 + w_2x_1^2 + w_3x_1x_2 $$ Hint: start from the cost function (Assume sum of squared error). If you write the math by hand, include the image in your notebook.\n"
   ]
  },
  {
   "cell_type": "code",
   "execution_count": null,
   "metadata": {},
   "outputs": [],
   "source": []
  },
  {
   "cell_type": "markdown",
   "metadata": {},
   "source": [
    "2. (15pts) Write Python code for an SGD solution to the non-linear model $$ y = w_0 + w_1x_1 + w_2x_1^2 + w_3x_1x_2$$ Try to format similarly to scikit-learn's models.\n",
    "\n",
    "*Your class should take as input the learning_rate, regularization_constant and number of epochs. \n",
    "\n",
    "*The fit method must take as input X,y and a choice of update_rule as 'sgd' or 'sgd_momentum' or 'rmsprop'(Notes on implementation below). \n",
    "\n",
    "*The _predict_ method takes an X value (optionally, an array of values). \n",
    "\n",
    "*Use your new gradient descent regression to predict the data given in 'samples.csv', for 15 epochs, using learning rates: [.0001, .001, .01, 0.1, 1, 10, 100] and regularization constants in the range: [0,10,100] . \n",
    "\n",
    "*Plot MSE and the $w$ parameters as a function of epoch (for 15 epochs) for the best 2 combinations of learning_rate and regularization for SGD, SGD-Momentum and RMSProp. I.e., you should have one plot of MSE and another for the parameter updates for SGD, SGD-Momentum and RMSProp (6 plots total)."
   ]
  },
  {
   "cell_type": "code",
   "execution_count": null,
   "metadata": {},
   "outputs": [],
   "source": [
    "# make a prediction with coefficients\n",
    "def predict(row, coefficients):\n",
    "    yhat = coefficients[0] #[0,0,0,0]\n",
    "    for i in range(len(row)+1): #(0,4) instead of (0,2)\n",
    "        yhat += coefficients[i + 1] * row[i]  \n",
    "        return yhat\n",
    " \n",
    "#Estimate linear regression coefficients using stochastic gradient descent\n",
    "def coefficients_sgd(train, l_rate, n_epoch):\n",
    "    coef = [0.0 for i in range(len(dataset[0])+1)] #coefs start out at 0\n",
    "    for epoch in range(n_epoch):\n",
    "        sum_error = 0\n",
    "        for row in train: #[1,1,1] in dataset\n",
    "            yhat = predict(row, coef) #yhat = 0\n",
    "            error = yhat - row[-1]\n",
    "            sum_error += error**2\n",
    "            coef[0] = coef[0] - l_rate * error\n",
    "            for i in range(len(row)-1):\n",
    "                coef[i + 1] = coef[i + 1] - l_rate * error * row[i]\n",
    "        print('>epoch=%d, lrate=%.3f, error=%.3f' % (epoch, l_rate, sum_error))\n",
    "    return coef\n",
    " \n",
    "# Calculate coefficients\n",
    "dataset = [[1, 1, 1], [2, 3, 4], [4, 3, 2], [3, 2, 1], [5, 5, 5]]\n",
    "l_rate = 0.001\n",
    "n_epoch = 50\n",
    "coef = coefficients_sgd(dataset, l_rate, n_epoch)\n",
    "print(coef)"
   ]
  },
  {
   "cell_type": "code",
   "execution_count": null,
   "metadata": {},
   "outputs": [],
   "source": [
    "#example code\n",
    "def predict(row, coefficients):\n",
    "\tyhat = coefficients[0]\n",
    "\tfor i in range(len(row)-1):\n",
    "\t\tyhat += coefficients[i + 1] * row[i]\n",
    "\treturn yhat\n",
    " \n",
    "# Estimate linear regression coefficients using stochastic gradient descent\n",
    "def coefficients_sgd(train, l_rate, n_epoch):\n",
    "\tcoef = [0.0 for i in range(len(train[0]))]\n",
    "\tfor epoch in range(n_epoch):\n",
    "\t\tsum_error = 0\n",
    "\t\tfor row in train:\n",
    "\t\t\tyhat = predict(row, coef)\n",
    "\t\t\terror = yhat - row[-1]\n",
    "\t\t\tsum_error += error**2\n",
    "\t\t\tcoef[0] = coef[0] - l_rate * error\n",
    "\t\t\tfor i in range(len(row)-1):\n",
    "\t\t\t\tcoef[i + 1] = coef[i + 1] - l_rate * error * row[i]\n",
    "\t\tprint('>epoch=%d, lrate=%.3f, error=%.3f' % (epoch, l_rate, sum_error))\n",
    "\treturn coef\n",
    " \n",
    "# Calculate coefficients\n",
    "dataset = [[1, 1], [2, 3], [4, 3], [3, 2], [5, 5]]\n",
    "l_rate = 0.001\n",
    "n_epoch = 50\n",
    "coef = coefficients_sgd(dataset, l_rate, n_epoch)\n",
    "print(coef)"
   ]
  },
  {
   "cell_type": "code",
   "execution_count": 16,
   "metadata": {},
   "outputs": [
    {
     "ename": "TypeError",
     "evalue": "'NoneType' object is not subscriptable",
     "output_type": "error",
     "traceback": [
      "\u001b[1;31m---------------------------------------------------------------------------\u001b[0m",
      "\u001b[1;31mTypeError\u001b[0m                                 Traceback (most recent call last)",
      "\u001b[1;32m<ipython-input-16-e6dfa4f85f41>\u001b[0m in \u001b[0;36m<module>\u001b[1;34m()\u001b[0m\n\u001b[1;32m----> 1\u001b[1;33m \u001b[0mcoef\u001b[0m\u001b[1;33m[\u001b[0m\u001b[1;36m0\u001b[0m\u001b[1;33m]\u001b[0m\u001b[1;33m\u001b[0m\u001b[0m\n\u001b[0m",
      "\u001b[1;31mTypeError\u001b[0m: 'NoneType' object is not subscriptable"
     ]
    }
   ],
   "source": [
    "coef[0]"
   ]
  },
  {
   "cell_type": "markdown",
   "metadata": {},
   "source": [
    "3. (2pts) Report the MSE at the end of 15 epochs for both combinations."
   ]
  },
  {
   "cell_type": "code",
   "execution_count": null,
   "metadata": {},
   "outputs": [],
   "source": []
  },
  {
   "cell_type": "markdown",
   "metadata": {},
   "source": [
    "4. (3pts) Based on the experiments, which of the 3 techniques allowed for larger initial setting of the learning_rate? Why?"
   ]
  },
  {
   "cell_type": "markdown",
   "metadata": {},
   "source": [
    "# Notes on SGD with momentum\n",
    "Momentum helps accelerate SGD in relevant direction and dampens the oscillations. It tries to maintain the direction in which the gradient vector was already pointing and adjusts the direction slowly with the new gradients. The steps can be listed below :\n",
    "1. v[t] = mu * v[t-1] - (learning_rate)*(gradient)\n",
    "2. w = w + v\n",
    "\n",
    "Set mu = 0.90. Initialize v with zeros.\n"
   ]
  },
  {
   "cell_type": "markdown",
   "metadata": {},
   "source": [
    "# Notes on RMSProp\n",
    "RMSProp (http://ruder.io/optimizing-gradient-descent/) differs from vanilla SGD in that the learning rate of each weight changes over updates. The RMSProp update adjusts the Adagrad method in a very simple way in an attempt to reduce its aggressive, monotonically decreasing learning rate.  In particular, it uses a moving average of squared gradients as cache. The learning_rate is divided by the cache, resulting in a different learning rate for each weight. A consequence of this update rule is that weights that have already seen large gradients (made large jumps) make smaller updates in subsequent iterations.\n",
    "Specifically, the steps can be listed as below:\n",
    "1. cache = (decay_rate)*(cache) + (1 - decay_rate)*(gradients^2) \n",
    "2. weights = weights - ((learning_rate)/sqrt(cache+1e-6))*gradients\n",
    "\n",
    "Use decay_rate = 0.90. Initialize cache with zeros."
   ]
  },
  {
   "cell_type": "markdown",
   "metadata": {},
   "source": [
    "# (Optional) Notes on Training with Gradient Descent\n",
    "1. Compute error: This consists of a prediction error and a regularization term. From an implementation perspective, this is a function that takes as input the truth, prediction and regularization hyperparameter and returns an error\n",
    "2. Compute gradients: Take a derivative of the error in terms of the weights. This can be modelled as a function that takes as input the error and features and returns the gradients for each weight\n",
    "3. Update weights: Weight updates can be done using vanilla SGD or adaptive techniques. The update function takes as inputs the gradient and hyperparameters and returns the new weights."
   ]
  },
  {
   "cell_type": "markdown",
   "metadata": {},
   "source": [
    "## Answer"
   ]
  },
  {
   "cell_type": "markdown",
   "metadata": {},
   "source": [
    "# Question 2 - Multi-layer perceptron Regressor (15 pts)"
   ]
  },
  {
   "cell_type": "markdown",
   "metadata": {},
   "source": [
    "In this question, you will explore the application of Multi-layer Perceptron (MLP) regression using sklearn package in Python;\n",
    "http://scikit-learn.org/stable/modules/generated/sklearn.neural_network.MLPRegressor.html.\n",
    "\n",
    "\n",
    "We will use the OpenCL gemm kernel performance prediction dataset for this problem; https://archive.ics.uci.edu/ml/datasets/SGEMM+GPU+kernel+performance.\n",
    "\n",
    "Following code will pre-process the data and split the data into training and test set using [train_test_split](http://scikit-learn.org/stable/modules/generated/sklearn.model_selection.train_test_split.html) with **random state 30** and **test_size = 0.25**."
   ]
  },
  {
   "cell_type": "code",
   "execution_count": 44,
   "metadata": {
    "scrolled": true
   },
   "outputs": [
    {
     "name": "stdout",
     "output_type": "stream",
     "text": [
      "(181200, 14) (181200,) (60400, 14) (60400,)\n"
     ]
    },
    {
     "name": "stderr",
     "output_type": "stream",
     "text": [
      "C:\\Users\\shihe\\Anaconda2\\envs\\py36\\lib\\site-packages\\ipykernel\\__main__.py:15: FutureWarning: Method .as_matrix will be removed in a future version. Use .values instead.\n"
     ]
    }
   ],
   "source": [
    "import pandas as pd\n",
    "import numpy as np\n",
    "import sklearn.neural_network as nn\n",
    "from sklearn.model_selection import (train_test_split,KFold, cross_val_score)\n",
    "from sklearn.metrics import mean_squared_error\n",
    "from sklearn.neural_network import MLPRegressor\n",
    "from sklearn.preprocessing import StandardScaler\n",
    "import matplotlib.pyplot as plt\n",
    "import glob\n",
    "%matplotlib inline\n",
    "\n",
    "data = pd.read_csv('sgemm_product.csv') \n",
    "data['target'] = 0.25*(data['Run1 (ms)'] + data['Run2 (ms)']+ data['Run3 (ms)'] + data['Run4 (ms)'])\n",
    "y = data['target']\n",
    "y = y.as_matrix()\n",
    "X = data.drop(['target','Run1 (ms)', 'Run2 (ms)', 'Run3 (ms)', 'Run4 (ms)'], axis = 1)\n",
    "X_train, X_test, y_train, y_test = train_test_split(X,y,test_size = 0.25, random_state=30)\n",
    "\n",
    "print(X_train.shape, y_train.shape, X_test.shape, y_test.shape)"
   ]
  },
  {
   "cell_type": "markdown",
   "metadata": {},
   "source": [
    "One more thing to use in this problem is [StandardScaler](http://scikit-learn.org/stable/modules/generated/sklearn.preprocessing.StandardScaler.html). Instead of fitting a model on original data, use StandardScaler to make each feature centered ([Example](http://scikit-learn.org/stable/auto_examples/applications/plot_prediction_latency.html#sphx-glr-auto-examples-applications-plot-prediction-latency-py)). Whenever you have training and test data, fit a scaler on training data and use this scaler on test data. Here, scale only features (independent variables), not target variable y. "
   ]
  },
  {
   "cell_type": "markdown",
   "metadata": {},
   "source": [
    "1) (5pts) Use [sklearn.neural_nework.MLPRegressor](http://scikit-learn.org/stable/modules/generated/sklearn.neural_network.MLPRegressor.html#sklearn.neural_network.MLPRegressor) to do a 5-fold cross validation using sklearn's [KFold](http://scikit-learn.org/stable/modules/generated/sklearn.model_selection.KFold.html#sklearn.model_selection.KFold). The cross validation must be performed on the **training data**. Use following parameter settings for MLPRegressor:\n",
    "\n",
    "    activation = 'tanh', solver = 'sgd', learning_rate='constant', random_state=42,\n",
    "    batch_size=30, learning_rate_init = 0.005"
   ]
  },
  {
   "cell_type": "markdown",
   "metadata": {},
   "source": [
    "Now, consider the following settings for the number of hidden units:\n",
    "    \n",
    "   (a) *hidden_layer_sizes = (2,)* \n",
    "   \n",
    "   (b) *hidden_layer_sizes = (10,)*\n",
    "   \n",
    "   (c) *hidden_layer_sizes = (30,)*\n",
    "   \n",
    "   (d) *hidden_layer_sizes = (50,)*\n",
    "   \n",
    "   Report the average Root Mean Squared Error (RMSE) value based on your 5-fold cross validation for each model.\n",
    "   "
   ]
  },
  {
   "cell_type": "code",
   "execution_count": 60,
   "metadata": {},
   "outputs": [
    {
     "name": "stdout",
     "output_type": "stream",
     "text": [
      "272.34535531119684\n"
     ]
    }
   ],
   "source": [
    "#a\n",
    "scaler = StandardScaler()\n",
    "X_train_scaled = scaler.fit_transform(X_train, y=None)\n",
    "X_test_scaled = scaler.fit_transform(X_test, y=None)\n",
    "\n",
    "model = nn.MLPRegressor(hidden_layer_sizes = (2,), activation = 'tanh', solver = 'sgd', learning_rate='constant', \n",
    "                        random_state=42, batch_size=30, learning_rate_init = 0.005)\n",
    "#model.fit(X_train, y_train)\n",
    "mse = cross_val_score(model, X_train_scaled, y_train, cv = 5, scoring = 'neg_mean_squared_error')\n",
    "rmse = np.sqrt(np.abs(mse))\n",
    "print (rmse.mean())"
   ]
  },
  {
   "cell_type": "code",
   "execution_count": 61,
   "metadata": {},
   "outputs": [
    {
     "name": "stdout",
     "output_type": "stream",
     "text": [
      "218.21144358200723\n"
     ]
    }
   ],
   "source": [
    "#b\n",
    "\n",
    "model = nn.MLPRegressor(hidden_layer_sizes = (10,), activation = 'tanh', solver = 'sgd', learning_rate='constant', \n",
    "                        random_state=42, batch_size=30, learning_rate_init = 0.005)\n",
    "#model.fit(X_train, y_train)\n",
    "mse = cross_val_score(model, X_train_scaled, y_train, cv = 5, scoring = 'neg_mean_squared_error')\n",
    "rmse = np.sqrt(np.abs(mse))\n",
    "print (rmse.mean())"
   ]
  },
  {
   "cell_type": "code",
   "execution_count": 62,
   "metadata": {},
   "outputs": [
    {
     "name": "stdout",
     "output_type": "stream",
     "text": [
      "192.38295052765704\n"
     ]
    }
   ],
   "source": [
    "#c\n",
    "model = nn.MLPRegressor(hidden_layer_sizes = (30,), activation = 'tanh', solver = 'sgd', learning_rate='constant', \n",
    "                        random_state=42, batch_size=30, learning_rate_init = 0.005)\n",
    "#model.fit(X_train, y_train)\n",
    "mse = cross_val_score(model, X_train_scaled, y_train, cv = 5, scoring = 'neg_mean_squared_error')\n",
    "rmse = np.sqrt(np.abs(mse))\n",
    "print (rmse.mean())"
   ]
  },
  {
   "cell_type": "code",
   "execution_count": 63,
   "metadata": {},
   "outputs": [
    {
     "name": "stdout",
     "output_type": "stream",
     "text": [
      "181.39579764959234\n"
     ]
    }
   ],
   "source": [
    "#d\n",
    "\n",
    "model = nn.MLPRegressor(hidden_layer_sizes = (50,), activation = 'tanh', solver = 'sgd', learning_rate='constant', \n",
    "                        random_state=42, batch_size=30, learning_rate_init = 0.005)\n",
    "#model.fit(X_train, y_train)\n",
    "mse = cross_val_score(model, X_train_scaled, y_train, cv = 5, scoring = 'neg_mean_squared_error')\n",
    "rmse = np.sqrt(np.abs(mse))\n",
    "print (rmse.mean())"
   ]
  },
  {
   "cell_type": "markdown",
   "metadata": {},
   "source": [
    "2) (5pts) Now, using the same parameters used in part 1), train MLPRegressor models on the entire training set and report the RMSE score for both the trainnig and testing sets (again, use StandardScaler). Which of the four models ((a)-(d)) performs the best? Briefly analyze and discuss the results, commenting on the number of hidden units.\n",
    "\n"
   ]
  },
  {
   "cell_type": "code",
   "execution_count": 65,
   "metadata": {},
   "outputs": [
    {
     "name": "stdout",
     "output_type": "stream",
     "text": [
      "371.62812963940195\n"
     ]
    }
   ],
   "source": [
    "#a\n",
    "model = nn.MLPRegressor(hidden_layer_sizes = (2,), activation = 'tanh', solver = 'sgd', learning_rate='constant', \n",
    "                        random_state=42, batch_size=30, learning_rate_init = 0.005)\n",
    "model.fit(X_train, y_train)\n",
    "predicted = model.predict(X_test_scaled)\n",
    "mse = mean_squared_error(y_test, predicted)\n",
    "rmse = np.sqrt(np.abs(mse))\n",
    "print (rmse.mean())"
   ]
  },
  {
   "cell_type": "code",
   "execution_count": 66,
   "metadata": {},
   "outputs": [
    {
     "name": "stdout",
     "output_type": "stream",
     "text": [
      "389.064527290071\n"
     ]
    }
   ],
   "source": [
    "#b\n",
    "model = nn.MLPRegressor(hidden_layer_sizes = (10,), activation = 'tanh', solver = 'sgd', learning_rate='constant', \n",
    "                        random_state=42, batch_size=30, learning_rate_init = 0.005)\n",
    "model.fit(X_train, y_train)\n",
    "predicted = model.predict(X_test_scaled)\n",
    "mse = mean_squared_error(y_test, predicted)\n",
    "rmse = np.sqrt(np.abs(mse))\n",
    "print (rmse.mean())"
   ]
  },
  {
   "cell_type": "code",
   "execution_count": 67,
   "metadata": {},
   "outputs": [
    {
     "name": "stdout",
     "output_type": "stream",
     "text": [
      "395.1714810375654\n"
     ]
    }
   ],
   "source": [
    "#c\n",
    "model = nn.MLPRegressor(hidden_layer_sizes = (30,), activation = 'tanh', solver = 'sgd', learning_rate='constant', \n",
    "                        random_state=42, batch_size=30, learning_rate_init = 0.005)\n",
    "model.fit(X_train, y_train)\n",
    "predicted = model.predict(X_test_scaled)\n",
    "mse = mean_squared_error(y_test, predicted)\n",
    "rmse = np.sqrt(np.abs(mse))\n",
    "print (rmse.mean())"
   ]
  },
  {
   "cell_type": "code",
   "execution_count": 68,
   "metadata": {},
   "outputs": [
    {
     "name": "stdout",
     "output_type": "stream",
     "text": [
      "406.4742144782453\n"
     ]
    }
   ],
   "source": [
    "#d\n",
    "model = nn.MLPRegressor(hidden_layer_sizes = (50,), activation = 'tanh', solver = 'sgd', learning_rate='constant', \n",
    "                        random_state=42, batch_size=30, learning_rate_init = 0.005)\n",
    "model.fit(X_train, y_train)\n",
    "predicted = model.predict(X_test_scaled)\n",
    "mse = mean_squared_error(y_test, predicted)\n",
    "rmse = np.sqrt(np.abs(mse))\n",
    "print (rmse.mean())"
   ]
  },
  {
   "cell_type": "markdown",
   "metadata": {},
   "source": [
    "In the whole train/test set, the model with 2 hidden layers did the best. However, when we operated with 5 folds and cross validation, we saw that the 50 hidden layer model did the best. So the most complex model with the most training did best in the first case, and the least complex model with the least training did best in the second case. \n",
    "## This DOES NOT affirms the point we learned in class, that a highly complex model with less training behaves like a less complex model with more training???????\n"
   ]
  },
  {
   "cell_type": "markdown",
   "metadata": {},
   "source": [
    "3) (5pts) MLPRegressor has a built-in attribute *loss\\_curve\\_* which returns the loss at each epoch (misleadingly referred to as \"iteration\" in scikit documentation, though they use epoch in the actual code!). For example, if your model is named as *my_model* you can call it as *my\\_model.loss\\_curve\\_* ([example](http://scikit-learn.org/stable/auto_examples/neural_networks/plot_mlp_training_curves.html#sphx-glr-auto-examples-neural-networks-plot-mlp-training-curves-py)). Plot three curves using below conditions (a, b, c) in one figure, where *X-axis* is epoch  number and *Y-axis* is squared root of *loss\\_curve\\_* valu;:\n",
    "\n",
    "   (a) *hidden_layer_sizes = (1,)* \n",
    "   \n",
    "   (b) *hidden_layer_sizes = (5,)*\n",
    "   \n",
    "   (c) *hidden_layer_sizes = (10,)*"
   ]
  },
  {
   "cell_type": "code",
   "execution_count": 90,
   "metadata": {},
   "outputs": [
    {
     "name": "stderr",
     "output_type": "stream",
     "text": [
      "C:\\Users\\shihe\\Anaconda2\\envs\\py36\\lib\\site-packages\\matplotlib\\legend.py:937: UserWarning: Legend does not support array([262.26461892, 262.19019235, 262.20861226, 262.20829937,\n",
      "       262.190685  ]) instances.\n",
      "A proxy artist may be used instead.\n",
      "See: http://matplotlib.org/users/legend_guide.html#creating-artists-specifically-for-adding-to-the-legend-aka-proxy-artists\n",
      "  \"aka-proxy-artists\".format(orig_handle)\n",
      "C:\\Users\\shihe\\Anaconda2\\envs\\py36\\lib\\site-packages\\matplotlib\\legend.py:937: UserWarning: Legend does not support array([262.56319099, 262.55415672, 262.54790078, 262.49634385,\n",
      "       262.52282156, 262.56056004, 262.52083864]) instances.\n",
      "A proxy artist may be used instead.\n",
      "See: http://matplotlib.org/users/legend_guide.html#creating-artists-specifically-for-adding-to-the-legend-aka-proxy-artists\n",
      "  \"aka-proxy-artists\".format(orig_handle)\n",
      "C:\\Users\\shihe\\Anaconda2\\envs\\py36\\lib\\site-packages\\matplotlib\\legend.py:937: UserWarning: Legend does not support array([262.87749312, 262.9586434 , 262.8728445 , 262.8711927 ,\n",
      "       262.95127937, 262.88611659, 262.87042773, 262.89304103,\n",
      "       262.86117181, 262.82792434, 262.90745152, 262.94058581,\n",
      "       262.89356934]) instances.\n",
      "A proxy artist may be used instead.\n",
      "See: http://matplotlib.org/users/legend_guide.html#creating-artists-specifically-for-adding-to-the-legend-aka-proxy-artists\n",
      "  \"aka-proxy-artists\".format(orig_handle)\n"
     ]
    },
    {
     "data": {
      "image/png": "[encoded data removed]",
      "text/plain": [
       "<Figure size 432x432 with 1 Axes>"
      ]
     },
     "metadata": {
      "needs_background": "light"
     },
     "output_type": "display_data"
    }
   ],
   "source": [
    "import matplotlib.pyplot as plt\n",
    "%matplotlib inline\n",
    "\n",
    "#a\n",
    "model1 = nn.MLPRegressor(hidden_layer_sizes = (1,), activation = 'tanh', solver = 'sgd', learning_rate='constant', \n",
    "                        random_state=42, batch_size=30, learning_rate_init = 0.005)\n",
    "model1.fit(X_train, y_train)\n",
    "model1loss = np.sqrt(model1.loss_curve_)\n",
    "epochs1 = range(model1.n_iter_)\n",
    "\n",
    "#b\n",
    "model2 = nn.MLPRegressor(hidden_layer_sizes = (5,), activation = 'tanh', solver = 'sgd', learning_rate='constant', \n",
    "                        random_state=42, batch_size=30, learning_rate_init = 0.005)\n",
    "model2.fit(X_train, y_train)\n",
    "model2loss = np.sqrt(model2.loss_curve_)\n",
    "\n",
    "#c\n",
    "model3 = nn.MLPRegressor(hidden_layer_sizes = (10,), activation = 'tanh', solver = 'sgd', learning_rate='constant', \n",
    "                        random_state=42, batch_size=30, learning_rate_init = 0.005)\n",
    "model3.fit(X_train, y_train)\n",
    "model3loss = np.sqrt(model3.loss_curve_)\n",
    "\n",
    "\n",
    "fig, ax = plt.subplots(1, 1, figsize=(6,6))\n",
    "ax.set_title(\"Model Loss per Epoch\")\n",
    "plt.xlabel(\"Epochs\")\n",
    "plt.ylabel(\"Square Root Model Loss\")\n",
    "ax.plot(model1loss, 'b', label = 'Model 1')\n",
    "ax.plot(model2loss, 'm', label = 'Model 2')\n",
    "ax.plot(model3loss, 'y', label = 'Model 3')\n",
    "ax.legend([model1loss, model2loss, model3loss], ['Model 1', 'Model 2', 'Model 3'], loc = 4)\n",
    "plt.show()"
   ]
  },
  {
   "cell_type": "markdown",
   "metadata": {},
   "source": [
    "## Answer"
   ]
  },
  {
   "cell_type": "markdown",
   "metadata": {},
   "source": [
    "# Question 3 - [Kaggle Competition] Mercedes-Benz Greener Manufacturing (25 pts)"
   ]
  },
  {
   "cell_type": "markdown",
   "metadata": {},
   "source": [
    "In this problem, we are going to explore a Kaggle competition: [Mercedes-Benz Greener Manufacturing](https://www.kaggle.com/c/mercedes-benz-greener-manufacturing). Your goal is to obtain the best score you can in this competition.\n",
    "\n",
    "The first step is to make a Kaggle account. Then find this competition and read the competition details and the description of the dataset. \n",
    "\n",
    "I have converted the categorical variables to numbers. The dataset is available as **'q3_train.csv'** and **'q3_test.csv'** along with the assignment. Please use this dataset for building your models. Upload your predicted values to kaggle to get the score.\n",
    "\n",
    "Your work should meet the following requirements:\n",
    "\n",
    "1. Data Preprocessing. \n",
    " * Conduct some data preprocessing. (Hint: see if there is any outlier and remove them).\n",
    " * Impute the missing values (if any).\n",
    " \n",
    "2. Predictive Models. \n",
    " * You have to create three models: Lasso regression, Ridge regression and multilayer perceptron. For Lasso and Ridge regression, optimize the alphas using cross validation. Multilayer perceptron can have one hidden layer. You may try other predictive models to get better scores (optional). \n",
    "3. Get a score of 0.51 or higher on the **Private Leaderboard**. Take a screenshot of your private score after submission as proof. You can click My Submissions tab to see the history of your submissions. It will show both Public Leaderboard & Private Leaderboard score. Your highes score should be visible in the screenshot.\n",
    "\n",
    "Briefly describe your work on each of these steps. Explain (very briefly) what approaches you tried, what worked and what did not work. Mention your team's kaggle name and include a screen shot of your public submission score. Finally, try your best to win this competition!"
   ]
  },
  {
   "cell_type": "markdown",
   "metadata": {},
   "source": [
    "## Answer"
   ]
  },
  {
   "cell_type": "markdown",
   "metadata": {},
   "source": [
    "# Question 4 - Bayes Decision Theory (10pts)"
   ]
  },
  {
   "cell_type": "markdown",
   "metadata": {},
   "source": [
    "a. (2pts) Explain what you understand by class-conditional likelihood, class priors, and posterior probability of a class given an input, and the relationship between them. Please define all symbols and equations used explicitly.\n",
    "\n",
    "b. (5pts) Suppose you want to learn a binary classifier to predict whether or not a customer will buy a TV. The class label is 0 if the patient does not buy and 1 if he/she does. For each customer, you are given two features, x1 is the per hour salary and x2 is the age. Assume that the class conditional distribution $p(x_1,x_2|C)$ is Gaussian. The mean salary and age of the people who do buy a TV is 40 and 27 respectively and that of those who don't is 16 and 20. Assume that both classes of customers have the same covariance given by the Identity matrix. Further, your sales data suggests that only 1 in 5 people actually bought a TV in the last few years. Mathematically derive the (optimal) Bayes decision boundary for this problem.\n",
    "\n",
    "c. (3pts) Write a script to sample 100 customers from each class (C = 0; 1) under the assumed distribution and the estimated parameters and plot their features. Plot the decision boundary you obtained in the part (b) on the same plot."
   ]
  },
  {
   "cell_type": "markdown",
   "metadata": {},
   "source": [
    "## Answer"
   ]
  },
  {
   "cell_type": "code",
   "execution_count": null,
   "metadata": {},
   "outputs": [],
   "source": []
  }
 ],
 "metadata": {
  "kernelspec": {
   "display_name": "Python [conda env:py36]",
   "language": "python",
   "name": "conda-env-py36-py"
  },
  "language_info": {
   "codemirror_mode": {
    "name": "ipython",
    "version": 3
   },
   "file_extension": ".py",
   "mimetype": "text/x-python",
   "name": "python",
   "nbconvert_exporter": "python",
   "pygments_lexer": "ipython3",
   "version": "3.6.6"
  }
 },
 "nbformat": 4,
 "nbformat_minor": 2
}
