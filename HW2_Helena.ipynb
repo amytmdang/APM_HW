{
 "cells": [
  {
   "cell_type": "markdown",
   "metadata": {},
   "source": [
    "\n",
    "# <p style=\"text-align: center;\">MIS 382N: ADVANCED PREDICTIVE MODELING - MSBA</p>\n",
    "# <p style=\"text-align: center;\">Assignment 2</p>\n",
    "## <p style=\"text-align: center;\">Total points: 85 </p>\n",
    "## <p style=\"text-align: center;\">Due: Tuesday, October 2nd, submitted via Canvas by 11:59 pm</p>\n",
    "\n",
    "Your homework should be written in a **Jupyter notebook**. You may work in groups of two if you wish. Only one student per team needs to submit the assignment on Canvas.  **Please include the name and UTEID for both students on all submitted files (including this notebook).**\n",
    "\n",
    "Also, please make sure your code runs and the graphics (and anything else) are displayed in your notebook before submitting. (%matplotlib inline)"
   ]
  },
  {
   "cell_type": "markdown",
   "metadata": {},
   "source": [
    "# Question 0. Bias-variance (15pts)\n",
    "Use the following code to read in a small set of data and divide it into training and testing sets. Inputs are x; outputs are y."
   ]
  },
  {
   "cell_type": "code",
   "execution_count": 1,
   "metadata": {},
   "outputs": [],
   "source": [
    "import numpy as np\n",
    "\n",
    "data_train = np.genfromtxt('data_q0_train.csv', delimiter=',')\n",
    "x_train = data_train[:,0].reshape(-1, 1)\n",
    "y_train = data_train[:,1].reshape(-1, 1)\n",
    "\n",
    "data_test = np.genfromtxt('data_q0_test.csv', delimiter=',')\n",
    "x_test = data_test[:,0].reshape(-1, 1)\n",
    "y_test = data_test[:,1].reshape(-1, 1)"
   ]
  },
  {
   "cell_type": "markdown",
   "metadata": {},
   "source": [
    "We want to build a model that can predict y for unknown inputs x.\n",
    "\n",
    "(a) (5pts) Fit a linear model to the training data, and report mean squared error on the test data. Plot the data, fitted model, and predictions, clearly denoting the training, testing, and predicted points.\n",
    "\n",
    "(b) (5pts) Fit polynomial models of degrees 1,2,3 and 5 to the training data, and report mean squared error for both models. Plot the data, the fitted models, and the predicted outputs.\n",
    "\n",
    "(c) (5pts) Which model performed the best? Explain using the bias-variance tradeoff."
   ]
  },
  {
   "cell_type": "markdown",
   "metadata": {},
   "source": [
    "# Question 1. Data Exploration (20pts)\n",
    "Use the following code to import the dataset."
   ]
  },
  {
   "cell_type": "code",
   "execution_count": 9,
   "metadata": {
    "scrolled": true
   },
   "outputs": [],
   "source": [
    "import pandas as pd\n",
    "import matplotlib.pyplot as plt\n",
    "%matplotlib inline\n",
    "\n",
    "#read the data\n",
    "data = pd.read_csv('data_q1.csv', index_col=0)"
   ]
  },
  {
   "cell_type": "markdown",
   "metadata": {},
   "source": [
    "The columns are:\n",
    "  * TV: advertising dollars spent on TV for a single product (in thousands of dollars)\n",
    "  * Radio: advertising dollars spent on Radio\n",
    "  * Newspaper: advertising dollars spent on Newspaper\n",
    "  * Sales (dependent variable): sales of a single product in a given market (in thousands of widgets)\n",
    "\n",
    "We are interested in predicting sales based on the first three \"feature\" variables (TV, Radio and Newspaper)."
   ]
  },
  {
   "cell_type": "markdown",
   "metadata": {},
   "source": [
    "(a) (1pts) Print the shape (number of rows and columns) of the data matrix , and show the first 5 rows."
   ]
  },
  {
   "cell_type": "code",
   "execution_count": 12,
   "metadata": {},
   "outputs": [
    {
     "name": "stdout",
     "output_type": "stream",
     "text": [
      "(200, 4)\n",
      "      TV  Radio  Newspaper  Sales\n",
      "1  230.1   37.8       69.2   22.1\n",
      "2   44.5   39.3       45.1   10.4\n",
      "3   17.2   45.9       69.3    9.3\n",
      "4  151.5   41.3       58.5   18.5\n",
      "5  180.8   10.8       58.4   12.9\n"
     ]
    }
   ],
   "source": [
    "print (data.shape)\n",
    "print (data.head())"
   ]
  },
  {
   "cell_type": "markdown",
   "metadata": {},
   "source": [
    "(b) (4pts) Generate box-plots for each of the four columns and identify the cutoff values for outliers."
   ]
  },
  {
   "cell_type": "code",
   "execution_count": 21,
   "metadata": {},
   "outputs": [
    {
     "name": "stdout",
     "output_type": "stream",
     "text": [
      "AxesSubplot(0.125,0.125;0.775x0.755)\n",
      "Outlier Cutoffs:\n"
     ]
    },
    {
     "data": {
      "text/html": [
       "<div>\n",
       "<style scoped>\n",
       "    .dataframe tbody tr th:only-of-type {\n",
       "        vertical-align: middle;\n",
       "    }\n",
       "\n",
       "    .dataframe tbody tr th {\n",
       "        vertical-align: top;\n",
       "    }\n",
       "\n",
       "    .dataframe thead th {\n",
       "        text-align: right;\n",
       "    }\n",
       "</style>\n",
       "<table border=\"1\" class=\"dataframe\">\n",
       "  <thead>\n",
       "    <tr style=\"text-align: right;\">\n",
       "      <th></th>\n",
       "      <th>TV</th>\n",
       "      <th>Radio</th>\n",
       "      <th>Newspaper</th>\n",
       "      <th>Sales</th>\n",
       "    </tr>\n",
       "  </thead>\n",
       "  <tbody>\n",
       "    <tr>\n",
       "      <th>0.25</th>\n",
       "      <td>74.375</td>\n",
       "      <td>9.975</td>\n",
       "      <td>12.75</td>\n",
       "      <td>10.375</td>\n",
       "    </tr>\n",
       "    <tr>\n",
       "      <th>0.75</th>\n",
       "      <td>218.825</td>\n",
       "      <td>36.525</td>\n",
       "      <td>45.10</td>\n",
       "      <td>17.400</td>\n",
       "    </tr>\n",
       "  </tbody>\n",
       "</table>\n",
       "</div>"
      ],
      "text/plain": [
       "           TV   Radio  Newspaper   Sales\n",
       "0.25   74.375   9.975      12.75  10.375\n",
       "0.75  218.825  36.525      45.10  17.400"
      ]
     },
     "execution_count": 21,
     "metadata": {},
     "output_type": "execute_result"
    },
    {
     "data": {
      "image/png": "[encoded data removed]",
      "text/plain": [
       "<Figure size 432x288 with 1 Axes>"
      ]
     },
     "metadata": {
      "needs_background": "light"
     },
     "output_type": "display_data"
    }
   ],
   "source": [
    "print (data.boxplot())\n",
    "\n",
    "#return quantiles of data to get Q1 and Q3\n",
    "print ('Outlier Cutoffs:')\n",
    "data.quantile([0.25, 0.75])"
   ]
  },
  {
   "cell_type": "markdown",
   "metadata": {},
   "source": [
    "(c) (4pts) Visualize the relationship between the features and the response variable (Sales) using scatterplots. Comment on the fits."
   ]
  },
  {
   "cell_type": "code",
   "execution_count": 41,
   "metadata": {
    "scrolled": true
   },
   "outputs": [
    {
     "data": {
      "image/png": "[encoded data removed]",
      "text/plain": [
       "<Figure size 432x288 with 1 Axes>"
      ]
     },
     "metadata": {
      "needs_background": "light"
     },
     "output_type": "display_data"
    },
    {
     "data": {
      "image/png": "[encoded data removed]",
      "text/plain": [
       "<Figure size 432x288 with 1 Axes>"
      ]
     },
     "metadata": {
      "needs_background": "light"
     },
     "output_type": "display_data"
    },
    {
     "data": {
      "image/png": "[encoded data removed]",
      "text/plain": [
       "<Figure size 432x288 with 1 Axes>"
      ]
     },
     "metadata": {
      "needs_background": "light"
     },
     "output_type": "display_data"
    }
   ],
   "source": [
    "features = ['TV', 'Radio', 'Newspaper']\n",
    "for i in features:\n",
    "    data.plot.scatter(x = i, y = 'Sales')"
   ]
  },
  {
   "cell_type": "markdown",
   "metadata": {},
   "source": [
    "The plot of TV to Sales has a much tighter fit than Radio and Newspaper. There is less variance in the y residuals. \n",
    "In the TV and Radio plots there is a clear linear relationship seen, but it's harder to see for the Newspaper plot. "
   ]
  },
  {
   "cell_type": "markdown",
   "metadata": {},
   "source": [
    "(d) (4pts) Fit a simple linear regression of 'Sales' on 'TV'. What is the regression coefficient for 'TV'? What is its interpretation?"
   ]
  },
  {
   "cell_type": "code",
   "execution_count": 55,
   "metadata": {},
   "outputs": [
    {
     "name": "stdout",
     "output_type": "stream",
     "text": [
      "Populating the interactive namespace from numpy and matplotlib\n",
      "Coefficient: [[0.04753664]]\n"
     ]
    }
   ],
   "source": [
    "from sklearn import linear_model\n",
    "from sklearn.metrics import mean_squared_error, mean_absolute_error\n",
    "import numpy as np\n",
    "import pandas as pd\n",
    "%pylab inline\n",
    "\n",
    "X = data[['TV']]\n",
    "Y = data[['Sales']]\n",
    "\n",
    "reg = linear_model.LinearRegression()\n",
    "reg.fit(X,Y)\n",
    "\n",
    "print('Coefficient:', reg.coef_)"
   ]
  },
  {
   "cell_type": "markdown",
   "metadata": {},
   "source": [
    "The coefficient of TV to sales is 0.04753664. This means that for each additional thousand dollars spent on TV, then there will be an increase in 0.0475 thousand dollars, or $47.5 in sales. "
   ]
  },
  {
   "cell_type": "markdown",
   "metadata": {},
   "source": [
    "Now split the data randomly into a training and test set (keep one third of the data for test), using train_test_split from sklearn. Use test_size as 0.33 and random_state as 42.\n",
    "\n",
    "(e) (4pts) Fit an MLR on all the feature variables using the training data and evaluate the trained model on the test data using root mean squared error. (Sales is the dependent variable)"
   ]
  },
  {
   "cell_type": "code",
   "execution_count": 57,
   "metadata": {},
   "outputs": [],
   "source": [
    "from sklearn.model_selection import train_test_split\n",
    "X = data[features]\n",
    "X_train, X_test, Y_train, Y_test = train_test_split(X,Y,test_size = 0.33, random_state=42)"
   ]
  },
  {
   "cell_type": "code",
   "execution_count": 63,
   "metadata": {
    "scrolled": true
   },
   "outputs": [
    {
     "name": "stdout",
     "output_type": "stream",
     "text": [
      "RMSE: 1.93078438223472\n",
      "MSE: 3.7279283306815088\n"
     ]
    }
   ],
   "source": [
    "from sklearn.metrics import mean_squared_error\n",
    "from math import sqrt\n",
    "\n",
    "#fit model using X_train, Y_train\n",
    "reg2 = linear_model.LinearRegression()\n",
    "reg2.fit(X_train,Y_train)\n",
    "\n",
    "#predicts Y's based on our model\n",
    "test_pred = reg2.predict(X_test)\n",
    "\n",
    "#mean squared error\n",
    "print (\"RMSE:\", sqrt(mean_squared_error(Y_test, test_pred)))\n",
    "print (\"MSE:\", mean_squared_error(Y_test, test_pred))"
   ]
  },
  {
   "cell_type": "markdown",
   "metadata": {},
   "source": [
    "(f) (2pts) Report the MSE obtained on train data. How much does this increase when you score your model on test data?"
   ]
  },
  {
   "cell_type": "code",
   "execution_count": 64,
   "metadata": {},
   "outputs": [
    {
     "name": "stdout",
     "output_type": "stream",
     "text": [
      "RMSE: 1.5526939990087725\n",
      "MSE: 2.410858654557854\n"
     ]
    }
   ],
   "source": [
    "train_pred = reg2.predict(X_train)\n",
    "print (\"RMSE:\", sqrt(mean_squared_error(Y_train, train_pred)))\n",
    "print (\"MSE:\", mean_squared_error(Y_train, train_pred))"
   ]
  },
  {
   "cell_type": "markdown",
   "metadata": {},
   "source": [
    "The RMSE increases by 0.378 when you run the model on test data versus train data.\n",
    "## more interpretation???"
   ]
  },
  {
   "cell_type": "markdown",
   "metadata": {},
   "source": [
    "(g) (1pts) Report the coefficients obtained by your model."
   ]
  },
  {
   "cell_type": "code",
   "execution_count": 65,
   "metadata": {},
   "outputs": [
    {
     "name": "stdout",
     "output_type": "stream",
     "text": [
      "Coefficients: \n",
      " [[0.04466512 0.19663006 0.00607439]]\n"
     ]
    }
   ],
   "source": [
    "# The coefficients\n",
    "print('Coefficients: \\n', reg2.coef_)"
   ]
  },
  {
   "cell_type": "markdown",
   "metadata": {},
   "source": [
    "# Question 2. Regression (25pts)\n",
    "\n",
    "Use the following dataset for this question. Split the dataset into train and test set(already done for you.)\n"
   ]
  },
  {
   "cell_type": "code",
   "execution_count": 66,
   "metadata": {},
   "outputs": [],
   "source": [
    "import pandas as pd\n",
    "from sklearn import datasets\n",
    "diabetes = datasets.load_diabetes()\n",
    "\n",
    "X = diabetes.data\n",
    "Y = diabetes.target"
   ]
  },
  {
   "cell_type": "code",
   "execution_count": 4,
   "metadata": {},
   "outputs": [
    {
     "name": "stderr",
     "output_type": "stream",
     "text": [
      "/Users/aashishkumar/anaconda3/lib/python3.6/site-packages/sklearn/cross_validation.py:41: DeprecationWarning: This module was deprecated in version 0.18 in favor of the model_selection module into which all the refactored classes and functions are moved. Also note that the interface of the new CV iterators are different from that of this module. This module will be removed in 0.20.\n",
      "  \"This module will be removed in 0.20.\", DeprecationWarning)\n"
     ]
    }
   ],
   "source": [
    "from sklearn.cross_validation import train_test_split\n",
    "X_train, X_test, y_train, y_test = train_test_split(X,Y,test_size = 0.33, random_state=10) "
   ]
  },
  {
   "cell_type": "markdown",
   "metadata": {},
   "source": [
    "a) (2 points) Fit an MLR, using ordinary least squares, on all the feature variables using the training data. Report the RMSE obtained on both X_train and X_test. How much does this increase when you score your model on X_test?\n",
    "\n",
    "b)  (3 points) Now fit the regression model using Huber loss.  You can use the [sklearn package](  http://scikit-learn.org/stable/modules/generated/sklearn.linear_model.HuberRegressor.html).  Set regularization parameter alpha to 0.0 and all other parameters as default.\n",
    "Report RMSE obtained on both X_train and X_test.\n",
    "\n",
    "Now we will introduce outlier in the training set and train our model to see how the model performs. (Code provided)\n",
    "\n",
    "c) (2 points ) Fit the MLR model on X_train and y_train_outlier and calculate the RMSE on train and test set.\n",
    "\n",
    "d) (3 points) Fit the regression model with Huber loss on X_train and y_train_outier. Calculate the RMSE on train and test set. Compare the RMSE of both the models.\n",
    "\n",
    "e) (5 points) Calaculate the residuals on the test set for both the models obtained in (c) and (d). Plot the scatter plot of residual vs fitted value for both the models. What do you observe? Which model looks better?"
   ]
  },
  {
   "cell_type": "code",
   "execution_count": 5,
   "metadata": {},
   "outputs": [],
   "source": [
    "y_train_outliers = np.copy(y_train)\n",
    "y_train_outliers[0] = 5000.0"
   ]
  },
  {
   "cell_type": "markdown",
   "metadata": {},
   "source": [
    "Now we will do feature selection. The features of X matrix are named as x1,x2,.... . We have created a list feature_name which stores the feature name (Code provided). So x1 means the first column of X, x2 means the second column of X and so on.\n",
    "\n",
    "f) (5 points ) Backward Selection: Find the three most significant factors using backward feature selection. You may find this link to be helpful: http://scikit-learn.org/stable/modules/generated/sklearn.feature_selection.RFE.html. Use X_train and y_train for your model.\n",
    "\n",
    "g) (5 points) Forward Selection: Find the three most significant feature using forward selection. Check if it is same as the ones you got in part (f). Use X_train and y_train for your model. Hint : Use a for loop to implement forward feature selection"
   ]
  },
  {
   "cell_type": "code",
   "execution_count": 6,
   "metadata": {},
   "outputs": [
    {
     "name": "stdout",
     "output_type": "stream",
     "text": [
      "['x1', 'x2', 'x3', 'x4', 'x5', 'x6', 'x7', 'x8', 'x9', 'x10']\n"
     ]
    }
   ],
   "source": [
    "feature_name = ['x'+str(i) for i in range(1,11)]\n",
    "print(feature_name)"
   ]
  },
  {
   "cell_type": "markdown",
   "metadata": {},
   "source": [
    "# Question 3. Sampling (5pts)\n",
    "\n",
    "A recent survey estimated that $30\\%$ of all Europeans aged 20 to 22 have driven under the influence of drugs or alcohol, based on a simple \"Yes or No\" question. A similar survey is being planned for Americans. The survey designers want the  $90\\%$ confidence interval to have a margin of error of at most $\\pm0.09$.\n",
    "\n",
    "(a) (2pts) Find the necessary sample size needed to conduct this survey assuming that the expected percentage of \"yes\" answers will be very close to that obtained from the European survey?\n",
    "\n",
    "(b) (2pts) Suppose the tolerance level was kept the same but the confidence level needs to increase to $95\\%$. What is the required sample size for this new specification?\n",
    "\n",
    "(c) (1pts) If one does not know where the true \"$p$\" may lie, one can conservatively conduct a survey assuming the worst case (in terms of required minimum sample size)  scenario of  $p = 0.5$. Redo part (b) for this \"worst case\" scenario.\n",
    "\n",
    "## Answer\n",
    "\n",
    "Please see attached photo!"
   ]
  },
  {
   "cell_type": "markdown",
   "metadata": {},
   "source": [
    "from IPython.display import Image\n",
    "![title](HW2_Q3.png)"
   ]
  },
  {
   "cell_type": "markdown",
   "metadata": {},
   "source": [
    "# Question 4. Principal Component Analysis (10pts)\n",
    "\n",
    "Use the following code to read in data of US Imports."
   ]
  },
  {
   "cell_type": "code",
   "execution_count": 154,
   "metadata": {},
   "outputs": [
    {
     "data": {
      "text/html": [
       "<div>\n",
       "<style scoped>\n",
       "    .dataframe tbody tr th:only-of-type {\n",
       "        vertical-align: middle;\n",
       "    }\n",
       "\n",
       "    .dataframe tbody tr th {\n",
       "        vertical-align: top;\n",
       "    }\n",
       "\n",
       "    .dataframe thead th {\n",
       "        text-align: right;\n",
       "    }\n",
       "</style>\n",
       "<table border=\"1\" class=\"dataframe\">\n",
       "  <thead>\n",
       "    <tr style=\"text-align: right;\">\n",
       "      <th></th>\n",
       "      <th>Agricultural machinery, equipment</th>\n",
       "      <th>Alcoholic beverages, excluding wine</th>\n",
       "      <th>Apparel, household goods - cotton</th>\n",
       "      <th>Apparel, household goods - wool</th>\n",
       "      <th>Apparel, textiles, nonwool or cotton</th>\n",
       "      <th>Apparel,household goods-nontextile</th>\n",
       "      <th>Artwork, antiques, stamps, etc.</th>\n",
       "      <th>Automotive tires and tubes</th>\n",
       "      <th>Bakery products</th>\n",
       "      <th>Bauxite and aluminum</th>\n",
       "      <th>...</th>\n",
       "      <th>Toiletries and cosmetics</th>\n",
       "      <th>Toys, games, and sporting goods</th>\n",
       "      <th>Trucks, buses, and special purpose vehicles</th>\n",
       "      <th>U.S. goods returned, and reimports</th>\n",
       "      <th>Vegetables</th>\n",
       "      <th>Vessels, except scrap</th>\n",
       "      <th>Wine, beer, and related products</th>\n",
       "      <th>Wood, glass, plastic</th>\n",
       "      <th>Wool, silk, etc.</th>\n",
       "      <th>Zinc</th>\n",
       "    </tr>\n",
       "    <tr>\n",
       "      <th>Country</th>\n",
       "      <th></th>\n",
       "      <th></th>\n",
       "      <th></th>\n",
       "      <th></th>\n",
       "      <th></th>\n",
       "      <th></th>\n",
       "      <th></th>\n",
       "      <th></th>\n",
       "      <th></th>\n",
       "      <th></th>\n",
       "      <th></th>\n",
       "      <th></th>\n",
       "      <th></th>\n",
       "      <th></th>\n",
       "      <th></th>\n",
       "      <th></th>\n",
       "      <th></th>\n",
       "      <th></th>\n",
       "      <th></th>\n",
       "      <th></th>\n",
       "      <th></th>\n",
       "    </tr>\n",
       "  </thead>\n",
       "  <tbody>\n",
       "    <tr>\n",
       "      <th>Afghanistan</th>\n",
       "      <td>3105.0</td>\n",
       "      <td>0.0</td>\n",
       "      <td>10739.0</td>\n",
       "      <td>7314.0</td>\n",
       "      <td>11942.0</td>\n",
       "      <td>2720.0</td>\n",
       "      <td>402303.0</td>\n",
       "      <td>0.0</td>\n",
       "      <td>12081.0</td>\n",
       "      <td>0.0</td>\n",
       "      <td>...</td>\n",
       "      <td>0.0</td>\n",
       "      <td>0.0</td>\n",
       "      <td>0.0</td>\n",
       "      <td>6156613.0</td>\n",
       "      <td>25873.0</td>\n",
       "      <td>0.0</td>\n",
       "      <td>61741.0</td>\n",
       "      <td>8474.0</td>\n",
       "      <td>3350.0</td>\n",
       "      <td>0.0</td>\n",
       "    </tr>\n",
       "    <tr>\n",
       "      <th>Albania</th>\n",
       "      <td>0.0</td>\n",
       "      <td>34741.0</td>\n",
       "      <td>2752171.0</td>\n",
       "      <td>50838.0</td>\n",
       "      <td>1298224.0</td>\n",
       "      <td>889107.0</td>\n",
       "      <td>286011.0</td>\n",
       "      <td>0.0</td>\n",
       "      <td>0.0</td>\n",
       "      <td>182556.0</td>\n",
       "      <td>...</td>\n",
       "      <td>4446.0</td>\n",
       "      <td>0.0</td>\n",
       "      <td>0.0</td>\n",
       "      <td>66682.0</td>\n",
       "      <td>519964.0</td>\n",
       "      <td>0.0</td>\n",
       "      <td>14112.0</td>\n",
       "      <td>0.0</td>\n",
       "      <td>0.0</td>\n",
       "      <td>0.0</td>\n",
       "    </tr>\n",
       "    <tr>\n",
       "      <th>Algeria</th>\n",
       "      <td>0.0</td>\n",
       "      <td>0.0</td>\n",
       "      <td>0.0</td>\n",
       "      <td>0.0</td>\n",
       "      <td>0.0</td>\n",
       "      <td>0.0</td>\n",
       "      <td>20217.0</td>\n",
       "      <td>0.0</td>\n",
       "      <td>0.0</td>\n",
       "      <td>0.0</td>\n",
       "      <td>...</td>\n",
       "      <td>22947.0</td>\n",
       "      <td>0.0</td>\n",
       "      <td>0.0</td>\n",
       "      <td>29474254.0</td>\n",
       "      <td>0.0</td>\n",
       "      <td>0.0</td>\n",
       "      <td>0.0</td>\n",
       "      <td>0.0</td>\n",
       "      <td>0.0</td>\n",
       "      <td>0.0</td>\n",
       "    </tr>\n",
       "    <tr>\n",
       "      <th>Andorra</th>\n",
       "      <td>0.0</td>\n",
       "      <td>0.0</td>\n",
       "      <td>351.0</td>\n",
       "      <td>0.0</td>\n",
       "      <td>0.0</td>\n",
       "      <td>3683.0</td>\n",
       "      <td>0.0</td>\n",
       "      <td>0.0</td>\n",
       "      <td>0.0</td>\n",
       "      <td>4741.0</td>\n",
       "      <td>...</td>\n",
       "      <td>0.0</td>\n",
       "      <td>0.0</td>\n",
       "      <td>0.0</td>\n",
       "      <td>67589.0</td>\n",
       "      <td>0.0</td>\n",
       "      <td>0.0</td>\n",
       "      <td>0.0</td>\n",
       "      <td>0.0</td>\n",
       "      <td>0.0</td>\n",
       "      <td>0.0</td>\n",
       "    </tr>\n",
       "    <tr>\n",
       "      <th>Angola</th>\n",
       "      <td>0.0</td>\n",
       "      <td>24505.0</td>\n",
       "      <td>0.0</td>\n",
       "      <td>0.0</td>\n",
       "      <td>0.0</td>\n",
       "      <td>0.0</td>\n",
       "      <td>6412.0</td>\n",
       "      <td>0.0</td>\n",
       "      <td>0.0</td>\n",
       "      <td>0.0</td>\n",
       "      <td>...</td>\n",
       "      <td>0.0</td>\n",
       "      <td>0.0</td>\n",
       "      <td>0.0</td>\n",
       "      <td>2992.0</td>\n",
       "      <td>0.0</td>\n",
       "      <td>0.0</td>\n",
       "      <td>0.0</td>\n",
       "      <td>0.0</td>\n",
       "      <td>0.0</td>\n",
       "      <td>0.0</td>\n",
       "    </tr>\n",
       "  </tbody>\n",
       "</table>\n",
       "<p>5 rows × 142 columns</p>\n",
       "</div>"
      ],
      "text/plain": [
       "             Agricultural machinery, equipment  \\\n",
       "Country                                          \n",
       "Afghanistan                             3105.0   \n",
       "Albania                                    0.0   \n",
       "Algeria                                    0.0   \n",
       "Andorra                                    0.0   \n",
       "Angola                                     0.0   \n",
       "\n",
       "             Alcoholic beverages, excluding wine  \\\n",
       "Country                                            \n",
       "Afghanistan                                  0.0   \n",
       "Albania                                  34741.0   \n",
       "Algeria                                      0.0   \n",
       "Andorra                                      0.0   \n",
       "Angola                                   24505.0   \n",
       "\n",
       "             Apparel, household goods - cotton  \\\n",
       "Country                                          \n",
       "Afghanistan                            10739.0   \n",
       "Albania                              2752171.0   \n",
       "Algeria                                    0.0   \n",
       "Andorra                                  351.0   \n",
       "Angola                                     0.0   \n",
       "\n",
       "             Apparel, household goods - wool  \\\n",
       "Country                                        \n",
       "Afghanistan                           7314.0   \n",
       "Albania                              50838.0   \n",
       "Algeria                                  0.0   \n",
       "Andorra                                  0.0   \n",
       "Angola                                   0.0   \n",
       "\n",
       "             Apparel, textiles, nonwool or cotton  \\\n",
       "Country                                             \n",
       "Afghanistan                               11942.0   \n",
       "Albania                                 1298224.0   \n",
       "Algeria                                       0.0   \n",
       "Andorra                                       0.0   \n",
       "Angola                                        0.0   \n",
       "\n",
       "             Apparel,household goods-nontextile  \\\n",
       "Country                                           \n",
       "Afghanistan                              2720.0   \n",
       "Albania                                889107.0   \n",
       "Algeria                                     0.0   \n",
       "Andorra                                  3683.0   \n",
       "Angola                                      0.0   \n",
       "\n",
       "             Artwork, antiques, stamps, etc.  Automotive tires and tubes  \\\n",
       "Country                                                                    \n",
       "Afghanistan                         402303.0                         0.0   \n",
       "Albania                             286011.0                         0.0   \n",
       "Algeria                              20217.0                         0.0   \n",
       "Andorra                                  0.0                         0.0   \n",
       "Angola                                6412.0                         0.0   \n",
       "\n",
       "             Bakery products  Bauxite and aluminum  ...   \\\n",
       "Country                                             ...    \n",
       "Afghanistan          12081.0                   0.0  ...    \n",
       "Albania                  0.0              182556.0  ...    \n",
       "Algeria                  0.0                   0.0  ...    \n",
       "Andorra                  0.0                4741.0  ...    \n",
       "Angola                   0.0                   0.0  ...    \n",
       "\n",
       "             Toiletries and cosmetics  Toys, games, and sporting goods  \\\n",
       "Country                                                                  \n",
       "Afghanistan                       0.0                              0.0   \n",
       "Albania                        4446.0                              0.0   \n",
       "Algeria                       22947.0                              0.0   \n",
       "Andorra                           0.0                              0.0   \n",
       "Angola                            0.0                              0.0   \n",
       "\n",
       "             Trucks, buses, and special purpose vehicles  \\\n",
       "Country                                                    \n",
       "Afghanistan                                          0.0   \n",
       "Albania                                              0.0   \n",
       "Algeria                                              0.0   \n",
       "Andorra                                              0.0   \n",
       "Angola                                               0.0   \n",
       "\n",
       "             U.S. goods returned, and reimports  Vegetables  \\\n",
       "Country                                                       \n",
       "Afghanistan                           6156613.0     25873.0   \n",
       "Albania                                 66682.0    519964.0   \n",
       "Algeria                              29474254.0         0.0   \n",
       "Andorra                                 67589.0         0.0   \n",
       "Angola                                   2992.0         0.0   \n",
       "\n",
       "             Vessels, except scrap  Wine, beer, and related products  \\\n",
       "Country                                                                \n",
       "Afghanistan                    0.0                           61741.0   \n",
       "Albania                        0.0                           14112.0   \n",
       "Algeria                        0.0                               0.0   \n",
       "Andorra                        0.0                               0.0   \n",
       "Angola                         0.0                               0.0   \n",
       "\n",
       "             Wood, glass, plastic  Wool, silk, etc.  Zinc  \n",
       "Country                                                    \n",
       "Afghanistan                8474.0            3350.0   0.0  \n",
       "Albania                       0.0               0.0   0.0  \n",
       "Algeria                       0.0               0.0   0.0  \n",
       "Andorra                       0.0               0.0   0.0  \n",
       "Angola                        0.0               0.0   0.0  \n",
       "\n",
       "[5 rows x 142 columns]"
      ]
     },
     "execution_count": 154,
     "metadata": {},
     "output_type": "execute_result"
    }
   ],
   "source": [
    "import pandas as pd\n",
    "\n",
    "df = pd.read_csv('data_q4.csv', index_col=0)\n",
    "df.head()"
   ]
  },
  {
   "cell_type": "code",
   "execution_count": 68,
   "metadata": {},
   "outputs": [],
   "source": [
    "from sklearn.preprocessing import StandardScaler\n",
    "stdScaler = StandardScaler()\n",
    "df_scaled = stdScaler.fit_transform(df)"
   ]
  },
  {
   "cell_type": "markdown",
   "metadata": {},
   "source": [
    "(a) (3pts) Find the top two principal components from this dataset, and make a scatter plot with the first component as the x-axis and the second as the y-axis. You may find the sklearn PCA package to be useful."
   ]
  },
  {
   "cell_type": "code",
   "execution_count": 191,
   "metadata": {},
   "outputs": [
    {
     "data": {
      "text/plain": [
       "<matplotlib.collections.PathCollection at 0x1b4e7a4c358>"
      ]
     },
     "execution_count": 191,
     "metadata": {},
     "output_type": "execute_result"
    },
    {
     "data": {
      "image/png": "[encoded data removed]",
      "text/plain": [
       "<Figure size 432x288 with 1 Axes>"
      ]
     },
     "metadata": {
      "needs_background": "light"
     },
     "output_type": "display_data"
    }
   ],
   "source": [
    "import numpy as np\n",
    "from sklearn.decomposition import PCA\n",
    "\n",
    "pca = PCA(n_components = 15)\n",
    "pcatransform = pca.fit_transform(df_scaled) #fit_transform \n",
    "#components only returns the loadings, you need to multiply loadings w/ feature matrix to get components\n",
    "#fit_transform fits the model with X AND applies the dimensionality reduction on X\n",
    "\n",
    "# in pcatransform, each row is a country and each column is a PC. Therefore we only want the first item of each row to get PC1\n",
    "X = pcatransform[:,0]\n",
    "Y = pcatransform[:,1]\n",
    "\n",
    "#plot\n",
    "fig = plt.figure()\n",
    "ax = fig.add_subplot(1,1,1)\n",
    "ax.set_xlabel('PC1')\n",
    "ax.set_ylabel('PC2')\n",
    "ax.set_title('2 Component PCA')\n",
    "ax.scatter(X, Y)\n",
    "\n",
    "#components = loadings, vectors\n",
    "#need to take loadings and multiply it to the matrix"
   ]
  },
  {
   "cell_type": "markdown",
   "metadata": {},
   "source": [
    "(b) (2pts) Find the names of the six countries with the highest first component (these should be clear outliers)."
   ]
  },
  {
   "cell_type": "code",
   "execution_count": 208,
   "metadata": {},
   "outputs": [
    {
     "name": "stdout",
     "output_type": "stream",
     "text": [
      "     Country        PC1\n",
      "42     China  78.808512\n",
      "37    Canada  65.904733\n",
      "135   Mexico  40.812633\n",
      "104    Japan  26.098581\n",
      "79   Germany  25.743293\n",
      "102    Italy  12.843229\n"
     ]
    }
   ],
   "source": [
    "index = df.reset_index()\n",
    "countries = pd.DataFrame(index['Country'])\n",
    "countries['PC1'] = X\n",
    "print (countries.sort_values(by = 'PC1', ascending = False)[:6])"
   ]
  },
  {
   "cell_type": "markdown",
   "metadata": {},
   "source": [
    "(c) (3pts) Create i) a scree plot depicting the proportion of variance and ii) a cumulative proportion of variance explained by the principal components of the data (X matrix).  If you are using sklearn's PCA implementation, you may use the output attribute *explained variance ratio*."
   ]
  },
  {
   "cell_type": "code",
   "execution_count": 209,
   "metadata": {},
   "outputs": [
    {
     "data": {
      "image/png": "[encoded data removed]",
      "text/plain": [
       "<Figure size 432x288 with 1 Axes>"
      ]
     },
     "metadata": {
      "needs_background": "light"
     },
     "output_type": "display_data"
    }
   ],
   "source": [
    "#i Proportion of Variance explained \n",
    "plt.plot(pca.explained_variance_ratio_)\n",
    "plt.xlabel('number of components')\n",
    "plt.ylabel('cumulative explained variance')\n",
    "plt.show()"
   ]
  },
  {
   "cell_type": "code",
   "execution_count": 166,
   "metadata": {
    "scrolled": true
   },
   "outputs": [
    {
     "data": {
      "image/png": "[encoded data removed]",
      "text/plain": [
       "<Figure size 432x288 with 1 Axes>"
      ]
     },
     "metadata": {
      "needs_background": "light"
     },
     "output_type": "display_data"
    }
   ],
   "source": [
    "#ii Cumulative Variance Explains\n",
    "plt.plot(np.cumsum(pca.explained_variance_ratio_))\n",
    "plt.xlabel('number of components')\n",
    "plt.ylabel('cumulative explained variance')\n",
    "plt.show()"
   ]
  },
  {
   "cell_type": "code",
   "execution_count": 228,
   "metadata": {},
   "outputs": [
    {
     "name": "stdout",
     "output_type": "stream",
     "text": [
      "1 : 0.45836493185657173\n",
      "2 : 0.6289169210862304\n",
      "3 : 0.7033189431092203\n",
      "4 : 0.7574117526930209\n",
      "5 : 0.789500837914859\n",
      "6 : 0.8123537049594145\n",
      "7 : 0.8307274087570057\n",
      "8 : 0.8480062682333923\n",
      "9 : 0.8628564496453709\n",
      "10 : 0.876828481618424\n",
      "11 : 0.8887957267247797\n",
      "12 : 0.8991541234552795\n",
      "13 : 0.9086637183384683\n",
      "14 : 0.9176572466600242\n",
      "15 : 0.925706641123197\n"
     ]
    }
   ],
   "source": [
    "sum = 0\n",
    "PC = 0\n",
    "for i in pca.explained_variance_ratio_:\n",
    "    sum += i\n",
    "    PC += 1\n",
    "    print (PC,\":\",sum)"
   ]
  },
  {
   "cell_type": "markdown",
   "metadata": {},
   "source": [
    "(d) (2pts) How many principal components are required to explain cumulative variance of 30%, 60%, and 90%, respectively?"
   ]
  },
  {
   "cell_type": "markdown",
   "metadata": {},
   "source": [
    "Based off of the scree plots, it seems that 30% of the variance is explained with less than one principal component (so 1 principal component is only needed to get 30% of the variance. 60% of the variance is explained with 1 principal component, and 90% of the variance is explained with 14 principal components. \n",
    "\n",
    "However to be sure, if we sum the variance explained for each additional PC and look at the list, Only 1 PC is needed to explain 30% of the variance. Then 2 PCs explain over 60% of the variance, and 13 PCs will explain 90 % of the variance.  "
   ]
  },
  {
   "cell_type": "markdown",
   "metadata": {},
   "source": [
    "# Question 5. PCA (conceptual) (10pts)"
   ]
  },
  {
   "cell_type": "markdown",
   "metadata": {},
   "source": [
    "(a) (5pts) Give two reasons why we might want to use PCA.\n",
    "\n",
    "(b) (5pts) If we approach PCA using eigenvalue decomposition on the covariance matrix, explain what the eigenvectors and eigenvalues represent."
   ]
  },
  {
   "cell_type": "markdown",
   "metadata": {},
   "source": [
    "## a\n",
    "\n",
    "We use PCA when we have too many dimensions or features in our data that cause noise and difficulties. By replacing our features with the principal components, we reduce the number of features in the data to get better perspective and less complexity. It's also easier to visualize a 2D plot vs. a 3D plot. \n",
    "\n",
    "In addition, we also use PCA when our feature variables are collinear or correlated with each other. Using PCA, we can extract \"new\" independent variables, where each \"new\" independent variable is a combination of the \"old\" x variables, and keep the most important ones. Therefore, we can insure our features will be independent of each other. \n",
    "\n",
    "## b\n",
    "\n",
    "Eigenvectors are the principal components of a dataset. They determine the directions of a new feature space. \n",
    "\n",
    "Each eigenvector is associated with an eigenvalue that is the length and magnitude of the corresponding eigenvector. They explain the variance of the data along the new feature axes.  "
   ]
  }
 ],
 "metadata": {
  "kernelspec": {
   "display_name": "Python [conda env:py36]",
   "language": "python",
   "name": "conda-env-py36-py"
  },
  "language_info": {
   "codemirror_mode": {
    "name": "ipython",
    "version": 3
   },
   "file_extension": ".py",
   "mimetype": "text/x-python",
   "name": "python",
   "nbconvert_exporter": "python",
   "pygments_lexer": "ipython3",
   "version": "3.6.6"
  }
 },
 "nbformat": 4,
 "nbformat_minor": 1
}
